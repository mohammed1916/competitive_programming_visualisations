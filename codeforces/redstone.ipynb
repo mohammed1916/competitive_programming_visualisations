{
 "cells": [
  {
   "cell_type": "code",
   "execution_count": null,
   "id": "533880f2",
   "metadata": {},
   "outputs": [],
   "source": [
    "def solve():\n",
    "    t = int(input())\n",
    "    for _ in range(t):\n",
    "        n = int(input())\n",
    "        gears = list(map(int, input().split()))\n",
    "        if len(set(gears)) < n:  # duplicate exists\n",
    "            print(\"YES\")\n",
    "        else:\n",
    "            print(\"NO\")\n"
   ]
  },
  {
   "cell_type": "code",
   "execution_count": 5,
   "id": "88bfdd3d",
   "metadata": {},
   "outputs": [
    {
     "name": "stdout",
     "output_type": "stream",
     "text": [
      "All sample tests passed ✅\n"
     ]
    }
   ],
   "source": [
    "def is_satisfactory(gears):\n",
    "    \"\"\"\n",
    "    Returns True if gears can be rearranged into a satisfactory contraption,\n",
    "    False otherwise.\n",
    "    \"\"\"\n",
    "    n = len(gears)\n",
    "    # If there exists a duplicate gear teeth count, it's possible\n",
    "    return len(set(gears)) < n\n",
    "\n",
    "\n",
    "# ---- Tests with assert ----\n",
    "# Each test corresponds to the provided samples\n",
    "\n",
    "# Test 1: [5, 5] -> duplicates exist -> YES\n",
    "assert is_satisfactory([5, 5]) == True\n",
    "\n",
    "# Test 2: [6, 3, 6, 9] -> duplicates exist -> YES\n",
    "assert is_satisfactory([6, 3, 6, 9]) == True\n",
    "\n",
    "# Test 3: [2, 3] -> no duplicates -> NO\n",
    "assert is_satisfactory([2, 3]) == False\n",
    "\n",
    "# Test 4: [30, 10, 12, 10, 10, 9, 18] -> duplicates exist -> YES\n",
    "assert is_satisfactory([30, 10, 12, 10, 10, 9, 18]) == True\n",
    "\n",
    "# Test 5: [2, 4, 8, 16, 32] -> no duplicates -> NO\n",
    "assert is_satisfactory([2, 4, 8, 16, 32]) == False\n",
    "\n",
    "\n",
    "print(\"All sample tests passed ✅\")\n"
   ]
  }
 ],
 "metadata": {
  "kernelspec": {
   "display_name": "base",
   "language": "python",
   "name": "python3"
  },
  "language_info": {
   "codemirror_mode": {
    "name": "ipython",
    "version": 3
   },
   "file_extension": ".py",
   "mimetype": "text/x-python",
   "name": "python",
   "nbconvert_exporter": "python",
   "pygments_lexer": "ipython3",
   "version": "3.13.5"
  }
 },
 "nbformat": 4,
 "nbformat_minor": 5
}
