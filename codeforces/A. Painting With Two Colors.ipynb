{
 "cells": [
  {
   "cell_type": "code",
   "execution_count": null,
   "id": "b48ab08e",
   "metadata": {},
   "outputs": [],
   "source": [
    "def symmetric_coloring(n, a, b):\n",
    "    if a <= b:\n",
    "        return (n - b) % 2 == 0\n",
    "    else:\n",
    "        return (n - a) % 2 == 0 and (n - b) % 2 == 0\n",
    "\n",
    "# Read/print solution\n",
    "# t = int(input().strip())\n",
    "# for _ in range(t):\n",
    "#     n, a, b = map(int, input().split())\n",
    "#     print(\"YES\" if symmetric_coloring(n, a, b) else \"NO\")\n",
    "\n",
    "# Tests from your input\n",
    "tests = [\n",
    "    (5, 3, 1),\n",
    "    (4, 1, 2),\n",
    "    (7, 7, 4),\n",
    "    (8, 3, 7),\n",
    "    (1, 1, 1),\n",
    "    (1000000000, 1000000000, 1000000000),\n",
    "    (3, 2, 1),\n",
    "]\n",
    "expected = [\"YES\",\"YES\",\"NO\",\"NO\",\"YES\",\"YES\",\"NO\"]\n",
    "got = [\"YES\" if symmetric_coloring(*t) else \"NO\" for t in tests]\n",
    "assert got == expected, (got, expected)\n"
   ]
  }
 ],
 "metadata": {
  "kernelspec": {
   "display_name": "base",
   "language": "python",
   "name": "python3"
  },
  "language_info": {
   "codemirror_mode": {
    "name": "ipython",
    "version": 3
   },
   "file_extension": ".py",
   "mimetype": "text/x-python",
   "name": "python",
   "nbconvert_exporter": "python",
   "pygments_lexer": "ipython3",
   "version": "3.13.5"
  }
 },
 "nbformat": 4,
 "nbformat_minor": 5
}
