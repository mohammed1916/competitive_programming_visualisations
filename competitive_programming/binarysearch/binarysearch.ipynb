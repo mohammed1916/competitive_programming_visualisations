{
 "cells": [
  {
   "cell_type": "code",
   "execution_count": null,
   "id": "8e326126",
   "metadata": {},
   "outputs": [
    {
     "name": "stdout",
     "output_type": "stream",
     "text": [
      "Index of 3: 1\n"
     ]
    }
   ],
   "source": [
    "# Binary Search implementation in Python\n",
    "\n",
    "def binary_search(arr, target):\n",
    "    left, right = 0, len(arr) - 1\n",
    "    # we keep squishing the search space in half, if they overlap or close in on each other, we have found the target\n",
    "    # if not we have no search space i.e., pointers crossed each other, we return -1\n",
    "    while left <= right:\n",
    "        mid = (left + right) // 2\n",
    "        if arr[mid] == target:\n",
    "            return mid  # Target found at index mid\n",
    "        elif arr[mid] < target:\n",
    "            left = mid + 1\n",
    "        else:\n",
    "            right = mid - 1\n",
    "    print(\"Left:\", left, \"Right:\", right, \"Mid:\", mid)\n",
    "    return -1  # Target not found\n",
    "\n",
    "# Example usage:\n",
    "arr = [1, 3, 5, 7, 9, 11]\n",
    "target = 3\n",
    "result = binary_search(arr, target)\n",
    "print(f\"Index of {target}: {result}\" if result != -1 else f\"{target} not found in the array.\")"
   ]
  },
  {
   "cell_type": "code",
   "execution_count": 16,
   "id": "965f64a4",
   "metadata": {},
   "outputs": [
    {
     "name": "stdout",
     "output_type": "stream",
     "text": [
      "Left: 1 Right: 0 Mid: 1\n",
      "2 not found in the array.\n"
     ]
    }
   ],
   "source": [
    "target = 2\n",
    "result = binary_search(arr, target)\n",
    "print(f\"Index of {target}: {result}\" if result != -1 else f\"{target} not found in the array.\")"
   ]
  },
  {
   "cell_type": "code",
   "execution_count": 17,
   "id": "96567749",
   "metadata": {},
   "outputs": [
    {
     "name": "stdout",
     "output_type": "stream",
     "text": [
      "Left: 4 Right: 3 Mid: 3\n",
      "8 not found in the array.\n"
     ]
    }
   ],
   "source": [
    "target = 8\n",
    "result = binary_search(arr, target)\n",
    "print(f\"Index of {target}: {result}\" if result != -1 else f\"{target} not found in the array.\")"
   ]
  },
  {
   "cell_type": "code",
   "execution_count": 18,
   "id": "3dce3763",
   "metadata": {},
   "outputs": [
    {
     "name": "stdout",
     "output_type": "stream",
     "text": [
      "Left: 3 Right: 2 Mid: 3\n",
      "6 not found in the array.\n"
     ]
    }
   ],
   "source": [
    "target = 6\n",
    "result = binary_search(arr, target)\n",
    "print(f\"Index of {target}: {result}\" if result != -1 else f\"{target} not found in the array.\")"
   ]
  }
 ],
 "metadata": {
  "kernelspec": {
   "display_name": "base",
   "language": "python",
   "name": "python3"
  },
  "language_info": {
   "codemirror_mode": {
    "name": "ipython",
    "version": 3
   },
   "file_extension": ".py",
   "mimetype": "text/x-python",
   "name": "python",
   "nbconvert_exporter": "python",
   "pygments_lexer": "ipython3",
   "version": "3.13.5"
  }
 },
 "nbformat": 4,
 "nbformat_minor": 5
}
