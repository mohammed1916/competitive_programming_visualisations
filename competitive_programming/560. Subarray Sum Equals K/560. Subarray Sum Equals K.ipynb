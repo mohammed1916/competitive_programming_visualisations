{
 "cells": [
  {
   "cell_type": "markdown",
   "id": "24291c70",
   "metadata": {},
   "source": [
    "560. Subarray Sum Equals K\n",
    "https://leetcode.com/problems/subarray-sum-equals-k/description/"
   ]
  },
  {
   "cell_type": "code",
   "execution_count": 3,
   "id": "563faa37",
   "metadata": {},
   "outputs": [],
   "source": [
    "from typing import List"
   ]
  },
  {
   "cell_type": "code",
   "execution_count": 16,
   "id": "ddcefc41",
   "metadata": {},
   "outputs": [],
   "source": [
    "class Solution:\n",
    "    def subarraySum(self, nums: List[int], k: int) -> int:\n",
    "        res = 0\n",
    "        prefix_sums_until_now_freq = {0:1}\n",
    "        prefix_sum_now = 0\n",
    "        for j in range(len(nums)):\n",
    "            prefix_sum_now += nums[0]\n",
    "            # k = prefix_sum_now - prev_prefix_needed\n",
    "            prev_prefix_needed = prefix_sum_now - k\n",
    "\n",
    "            res += prefix_sums_until_now_freq.get(prev_prefix_needed,0)\n",
    "            prefix_sums_until_now_freq[prefix_sum_now] = 1+prefix_sums_until_now_freq.get(prefix_sum_now,0)\n",
    "        return res\n"
   ]
  }
 ],
 "metadata": {
  "kernelspec": {
   "display_name": "base",
   "language": "python",
   "name": "python3"
  },
  "language_info": {
   "codemirror_mode": {
    "name": "ipython",
    "version": 3
   },
   "file_extension": ".py",
   "mimetype": "text/x-python",
   "name": "python",
   "nbconvert_exporter": "python",
   "pygments_lexer": "ipython3",
   "version": "3.13.5"
  }
 },
 "nbformat": 4,
 "nbformat_minor": 5
}
