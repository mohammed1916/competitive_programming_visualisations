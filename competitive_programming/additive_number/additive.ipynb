{
 "cells": [
  {
   "cell_type": "code",
   "execution_count": 1,
   "id": "59330369",
   "metadata": {},
   "outputs": [],
   "source": [
    "class Solution:\n",
    "    def isAdditiveNumber(self, numeric_string: str) -> bool:\n",
    "        total_length_of_numeric_string = len(numeric_string)\n",
    "        \n",
    "        for end_index_of_first_number in range(1, total_length_of_numeric_string):\n",
    "            \n",
    "            if numeric_string[0] == '0' and end_index_of_first_number > 1:\n",
    "                break  # Prevents the first number from having leading zeros (e.g., \"01\")\n",
    "            \n",
    "            for end_index_of_second_number in range(end_index_of_first_number + 1, total_length_of_numeric_string):\n",
    "                \n",
    "                if numeric_string[end_index_of_first_number] == '0' and end_index_of_second_number - end_index_of_first_number > 1:\n",
    "                    break  # Prevents the second number from having leading zeros\n",
    "                \n",
    "                first_number_as_string = numeric_string[:end_index_of_first_number]\n",
    "                second_number_as_string = numeric_string[end_index_of_first_number:end_index_of_second_number]\n",
    "                current_position_in_numeric_string = end_index_of_second_number\n",
    "                \n",
    "                while current_position_in_numeric_string < total_length_of_numeric_string:\n",
    "                    sum_of_first_and_second_numbers = str(\n",
    "                        int(first_number_as_string) + int(second_number_as_string)\n",
    "                    )\n",
    "                    \n",
    "                    if not numeric_string.startswith(\n",
    "                        sum_of_first_and_second_numbers, current_position_in_numeric_string\n",
    "                    ):\n",
    "                        break  # The expected next number does not match the substring at current position\n",
    "                    \n",
    "                    current_position_in_numeric_string += len(sum_of_first_and_second_numbers)\n",
    "                    first_number_as_string, second_number_as_string = (\n",
    "                        second_number_as_string,\n",
    "                        sum_of_first_and_second_numbers\n",
    "                    )\n",
    "                \n",
    "                if current_position_in_numeric_string == total_length_of_numeric_string:\n",
    "                    return True  # Successfully formed an additive sequence using the entire input\n",
    "        \n",
    "        return False  # No valid additive sequence found for any combination\n"
   ]
  },
  {
   "cell_type": "code",
   "execution_count": 2,
   "id": "5450b82c",
   "metadata": {},
   "outputs": [
    {
     "name": "stdout",
     "output_type": "stream",
     "text": [
      "112358: True\n",
      "199100199: True\n",
      "123: True\n",
      "1023: False\n",
      "000: True\n",
      "1203: False\n"
     ]
    }
   ],
   "source": [
    "sol = Solution()\n",
    "test_cases = [\n",
    "    \"112358\",    # True: 1,1,2,3,5,8\n",
    "    \"199100199\", # True: 1,99,100,199\n",
    "    \"123\",       # True: 1,2,3\n",
    "    \"1023\",      # False\n",
    "    \"000\",       # True: 0,0,0\n",
    "    \"1203\"       # False\n",
    "]\n",
    "\n",
    "for s in test_cases:\n",
    "    print(f\"{s}: {sol.isAdditiveNumber(s)}\")"
   ]
  }
 ],
 "metadata": {
  "kernelspec": {
   "display_name": "Python 3",
   "language": "python",
   "name": "python3"
  },
  "language_info": {
   "codemirror_mode": {
    "name": "ipython",
    "version": 3
   },
   "file_extension": ".py",
   "mimetype": "text/x-python",
   "name": "python",
   "nbconvert_exporter": "python",
   "pygments_lexer": "ipython3",
   "version": "3.11.9"
  }
 },
 "nbformat": 4,
 "nbformat_minor": 5
}
