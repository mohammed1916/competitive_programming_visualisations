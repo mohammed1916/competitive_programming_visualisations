{
 "cells": [
  {
   "cell_type": "code",
   "execution_count": null,
   "id": "407418b2",
   "metadata": {},
   "outputs": [],
   "source": [
    "import pandas as pd\n",
    "import plotly.express as px\n",
    "\n",
    "# Dataset\n",
    "dataset = [\n",
    "    ['Sunny', 'Hot', 'High', 'Weak', 'No'],\n",
    "    ['Sunny', 'Hot', 'High', 'Strong', 'No'],\n",
    "    ['Overcast', 'Hot', 'High', 'Weak', 'Yes'],\n",
    "    ['Rain', 'Mild', 'High', 'Weak', 'Yes'],\n",
    "    ['Rain', 'Cool', 'Normal', 'Weak', 'Yes'],\n",
    "    ['Rain', 'Cool', 'Normal', 'Strong', 'No'],\n",
    "    ['Overcast', 'Cool', 'Normal', 'Strong', 'Yes'],\n",
    "    ['Sunny', 'Mild', 'High', 'Weak', 'No'],\n",
    "    ['Sunny', 'Cool', 'Normal', 'Weak', 'Yes'],\n",
    "    ['Rain', 'Mild', 'Normal', 'Weak', 'Yes'],\n",
    "    ['Sunny', 'Mild', 'Normal', 'Strong', 'Yes'],\n",
    "    ['Overcast', 'Mild', 'High', 'Strong', 'Yes'],\n",
    "    ['Overcast', 'Hot', 'Normal', 'Weak', 'Yes'],\n",
    "    ['Rain', 'Mild', 'High', 'Strong', 'No']\n",
    "]\n",
    "\n",
    "# Create DataFrame\n",
    "df = pd.DataFrame(dataset, columns=['Outlook', 'Temperature', 'Humidity', 'Wind', 'PlayTennis'])\n",
    "\n",
    "# Count occurrences\n",
    "df_counts = df.groupby(['Outlook', 'PlayTennis']).size().reset_index(name='Count')\n",
    "\n",
    "# Plot using Plotly\n",
    "fig = px.bar(df_counts, x='Outlook', y='Count', color='PlayTennis', barmode='group',\n",
    "             title=\"Outlook vs. Play Tennis\")\n",
    "\n",
    "fig.show()\n"
   ]
  },
  {
   "cell_type": "code",
   "execution_count": 1,
   "id": "9e58dfb7",
   "metadata": {},
   "outputs": [
    {
     "name": "stdout",
     "output_type": "stream",
     "text": [
      "{'Outlook': {'Overcast': 'Yes', 'Sunny': {'Humidity': {'Normal': 'Yes', 'High': 'No'}}, 'Rain': {'Wind': {'Weak': 'Yes', 'Strong': 'No'}}}}\n"
     ]
    }
   ],
   "source": [
    "import math\n",
    "from collections import Counter, defaultdict\n",
    "\n",
    "# Calculate entropy\n",
    "def entropy(data):\n",
    "    labels = [row[-1] for row in data]\n",
    "    label_counts = Counter(labels)\n",
    "    total = len(data)\n",
    "    return -sum((count / total) * math.log2(count / total) for count in label_counts.values())\n",
    "\n",
    "# Split dataset based on attribute value\n",
    "def split_dataset(data, attribute, value):\n",
    "    return [row[:attribute] + row[attribute+1:] for row in data if row[attribute] == value]\n",
    "\n",
    "# Choose the best attribute based on Information Gain\n",
    "def choose_best_attribute(data):\n",
    "    base_entropy = entropy(data)\n",
    "    num_attributes = len(data[0]) - 1  # exclude class label\n",
    "    best_info_gain = 0\n",
    "    best_attribute = -1\n",
    "\n",
    "    for i in range(num_attributes):\n",
    "        values = set(row[i] for row in data)\n",
    "        new_entropy = 0.0\n",
    "        for value in values:\n",
    "            subset = split_dataset(data, i, value)\n",
    "            if subset:\n",
    "                prob = len(subset) / len(data)\n",
    "                new_entropy += prob * entropy(subset)\n",
    "        info_gain = base_entropy - new_entropy\n",
    "        if info_gain > best_info_gain:\n",
    "            best_info_gain = info_gain\n",
    "            best_attribute = i\n",
    "\n",
    "    return best_attribute\n",
    "\n",
    "# Majority class in a dataset\n",
    "def majority_class(data):\n",
    "    labels = [row[-1] for row in data]\n",
    "    return Counter(labels).most_common(1)[0][0]\n",
    "\n",
    "# ID3 main function\n",
    "def id3(data, labels):\n",
    "    class_list = [row[-1] for row in data]\n",
    "\n",
    "    # If all labels are the same, return that label\n",
    "    if class_list.count(class_list[0]) == len(class_list):\n",
    "        return class_list[0]\n",
    "\n",
    "    # If no attributes left to split on\n",
    "    if len(data[0]) == 1:\n",
    "        return majority_class(data)\n",
    "\n",
    "    best_attr = choose_best_attribute(data)\n",
    "    best_label = labels[best_attr]\n",
    "    tree = {best_label: {}}\n",
    "\n",
    "    unique_values = set(row[best_attr] for row in data)\n",
    "    sub_labels = labels[:best_attr] + labels[best_attr+1:]\n",
    "\n",
    "    for value in unique_values:\n",
    "        subset = split_dataset(data, best_attr, value)\n",
    "        subtree = id3(subset, sub_labels)\n",
    "        tree[best_label][value] = subtree\n",
    "\n",
    "    return tree\n",
    "\n",
    "\n",
    "# Example usage:\n",
    "dataset = [\n",
    "    ['Sunny', 'Hot', 'High', 'Weak', 'No'],\n",
    "    ['Sunny', 'Hot', 'High', 'Strong', 'No'],\n",
    "    ['Overcast', 'Hot', 'High', 'Weak', 'Yes'],\n",
    "    ['Rain', 'Mild', 'High', 'Weak', 'Yes'],\n",
    "    ['Rain', 'Cool', 'Normal', 'Weak', 'Yes'],\n",
    "    ['Rain', 'Cool', 'Normal', 'Strong', 'No'],\n",
    "    ['Overcast', 'Cool', 'Normal', 'Strong', 'Yes'],\n",
    "    ['Sunny', 'Mild', 'High', 'Weak', 'No'],\n",
    "    ['Sunny', 'Cool', 'Normal', 'Weak', 'Yes'],\n",
    "    ['Rain', 'Mild', 'Normal', 'Weak', 'Yes'],\n",
    "    ['Sunny', 'Mild', 'Normal', 'Strong', 'Yes'],\n",
    "    ['Overcast', 'Mild', 'High', 'Strong', 'Yes'],\n",
    "    ['Overcast', 'Hot', 'Normal', 'Weak', 'Yes'],\n",
    "    ['Rain', 'Mild', 'High', 'Strong', 'No']\n",
    "]\n",
    "\n",
    "labels = ['Outlook', 'Temperature', 'Humidity', 'Wind']\n",
    "\n",
    "tree = id3(dataset, labels)\n",
    "print(tree)\n"
   ]
  },
  {
   "cell_type": "code",
   "execution_count": 4,
   "id": "aa99f1ba",
   "metadata": {
    "vscode": {
     "languageId": "markdown"
    }
   },
   "outputs": [
    {
     "name": "stdout",
     "output_type": "stream",
     "text": [
      "[['Hot', 'High', 'Weak', 'No'], ['Hot', 'High', 'Strong', 'No'], ['Mild', 'High', 'Weak', 'No'], ['Cool', 'Normal', 'Weak', 'Yes'], ['Mild', 'Normal', 'Strong', 'Yes']]\n"
     ]
    }
   ],
   "source": [
    "# Example usage of split_dataset:\n",
    "# Let's split the dataset where attribute index 0 ('Outlook') is 'Sunny'\n",
    "split_result = split_dataset(dataset, 0, 'Sunny')\n",
    "print(split_result)"
   ]
  }
 ],
 "metadata": {
  "kernelspec": {
   "display_name": "base",
   "language": "python",
   "name": "python3"
  },
  "language_info": {
   "codemirror_mode": {
    "name": "ipython",
    "version": 3
   },
   "file_extension": ".py",
   "mimetype": "text/x-python",
   "name": "python",
   "nbconvert_exporter": "python",
   "pygments_lexer": "ipython3",
   "version": "3.13.5"
  }
 },
 "nbformat": 4,
 "nbformat_minor": 5
}
